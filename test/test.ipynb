{
 "cells": [
  {
   "cell_type": "code",
   "execution_count": 1,
   "metadata": {},
   "outputs": [],
   "source": [
    "import pandas as pd\n",
    "import numpy as np\n",
    "from sklearn.preprocessing import LabelEncoder, OrdinalEncoder, StandardScaler\n",
    "from sklearn.ensemble import RandomForestClassifier\n",
    "from sklearn.model_selection import train_test_split,GridSearchCV\n",
    "from sklearn.metrics import accuracy_score,classification_report\n",
    "from sklearn.utils import resample\n"
   ]
  },
  {
   "cell_type": "code",
   "execution_count": 2,
   "metadata": {},
   "outputs": [],
   "source": [
    "# Load dataset\n",
    "df = pd.read_csv('train_LZdllcl.csv')\n",
    "pd.set_option('display.max_columns', None)\n",
    "\n",
    "# Handling null values\n",
    "df['education'] = df['education'].fillna(df['education'].mode()[0])\n",
    "df['previous_year_rating'] = df['previous_year_rating'].fillna(df['previous_year_rating'].median())\n"
   ]
  },
  {
   "cell_type": "code",
   "execution_count": 3,
   "metadata": {},
   "outputs": [],
   "source": [
    "# Drop 'employee_id'\n",
    "df.drop('employee_id', axis=1, inplace=True)"
   ]
  },
  {
   "cell_type": "code",
   "execution_count": 4,
   "metadata": {},
   "outputs": [],
   "source": [
    "columns_to_clip = ['no_of_trainings', 'age', 'previous_year_rating', 'length_of_service']\n",
    "\n",
    "for column in columns_to_clip:\n",
    "    Q1 = np.percentile(df[column], 25)\n",
    "    Q3 = np.percentile(df[column], 75)\n",
    "    IQR = Q3 - Q1\n",
    "    low_lim = Q1 - 1.5 * IQR\n",
    "    upp_lim = Q3 + 1.5 * IQR\n",
    "    df[column] = df[column].clip(lower=low_lim, upper=upp_lim)\n",
    "    "
   ]
  },
  {
   "cell_type": "code",
   "execution_count": 5,
   "metadata": {},
   "outputs": [],
   "source": [
    "le = LabelEncoder()\n",
    "df['department'] = le.fit_transform(df['department'])\n",
    "\n",
    "df['region'] = df['region'].str.extract(r'(\\d+)').astype(int)\n",
    "\n",
    "\n",
    "od_education = OrdinalEncoder(categories=[[\"Below Secondary\", \"Bachelor's\", \"Master's & above\"]], dtype=int)\n",
    "df['education'] = od_education.fit_transform(df[['education']])\n",
    "\n",
    "df['gender'] = le.fit_transform(df['gender'])\n",
    "\n",
    "od_recruitment_channel = OrdinalEncoder(categories=[[\"other\", \"sourcing\", \"referred\"]], dtype=int)\n",
    "df['recruitment_channel'] = od_recruitment_channel.fit_transform(df[['recruitment_channel']])"
   ]
  },
  {
   "cell_type": "code",
   "execution_count": 6,
   "metadata": {},
   "outputs": [],
   "source": [
    "# Normalization\n",
    "standard_scaler = StandardScaler()\n",
    "standard_columns = ['age', 'previous_year_rating', 'length_of_service', 'avg_training_score']\n",
    "df[standard_columns] = standard_scaler.fit_transform(df[standard_columns])\n",
    "\n"
   ]
  },
  {
   "cell_type": "code",
   "execution_count": 7,
   "metadata": {},
   "outputs": [],
   "source": [
    "cls_false = df[df['is_promoted'] == 0]\n",
    "cls_true = df[df['is_promoted'] == 1]\n",
    "undersample = resample(cls_false,n_samples=len(cls_true), random_state=119)\n",
    "\n",
    "bal_df = pd.concat([undersample, cls_true])"
   ]
  },
  {
   "cell_type": "code",
   "execution_count": 8,
   "metadata": {},
   "outputs": [],
   "source": [
    "X = bal_df.drop('is_promoted', axis=1)\n",
    "y = bal_df['is_promoted']\n",
    "\n",
    "# Split the data into training and testing sets\n",
    "X_train, X_test, y_train, y_test = train_test_split(X, y, test_size=0.2, random_state=42)"
   ]
  },
  {
   "cell_type": "code",
   "execution_count": 10,
   "metadata": {},
   "outputs": [
    {
     "name": "stdout",
     "output_type": "stream",
     "text": [
      "Best Hyperparameters: {'max_depth': 50, 'n_estimators': 57, 'random_state': 119}\n",
      "Accuracy: 0.80\n",
      "Classification Report:\n",
      "              precision    recall  f1-score   support\n",
      "\n",
      "           0       0.85      0.73      0.78       931\n",
      "           1       0.76      0.87      0.81       937\n",
      "\n",
      "    accuracy                           0.80      1868\n",
      "   macro avg       0.81      0.80      0.80      1868\n",
      "weighted avg       0.81      0.80      0.80      1868\n",
      "\n"
     ]
    }
   ],
   "source": [
    "# Define the Random Forest model\n",
    "rf_model = RandomForestClassifier()\n",
    "\n",
    "# Define the hyperparameter grid to search through\n",
    "param_grid = {\n",
    "    'n_estimators': range(50, 60),\n",
    "    'max_depth': range(50, 60),\n",
    "    'random_state': [119]\n",
    "}\n",
    "\n",
    "# Create GridSearchCV object\n",
    "grid_search = GridSearchCV(estimator=rf_model, param_grid=param_grid, cv=3, scoring='accuracy', n_jobs=-1)\n",
    "\n",
    "# Fit the model to the training data\n",
    "grid_search.fit(X_train, y_train)\n",
    "best_params = grid_search.best_params_\n",
    "print(f'Best Hyperparameters: {best_params}')\n",
    "\n",
    "# Make predictions on the test set using the best model\n",
    "best_model = grid_search.best_estimator_\n",
    "y_pred = best_model.predict(X_test)\n",
    "\n",
    "# Evaluate the accuracy and print the classification report\n",
    "accuracy = accuracy_score(y_test, y_pred)\n",
    "class_report = classification_report(y_test, y_pred)\n",
    "print(f\"Accuracy: {accuracy:.2f}\")\n",
    "print(\"Classification Report:\")\n",
    "print(class_report)"
   ]
  },
  {
   "cell_type": "code",
   "execution_count": 21,
   "metadata": {},
   "outputs": [],
   "source": [
    "cls_false = df[df['is_promoted'] == 0]\n",
    "cls_true = df[df['is_promoted'] == 1]\n",
    "oversample = resample(cls_true,n_samples=len(cls_false), random_state=42)\n",
    "\n",
    "ov_bal_df = pd.concat([oversample, cls_false])"
   ]
  },
  {
   "cell_type": "code",
   "execution_count": 22,
   "metadata": {},
   "outputs": [
    {
     "data": {
      "text/plain": [
       "is_promoted\n",
       "1    50140\n",
       "0    50140\n",
       "Name: count, dtype: int64"
      ]
     },
     "execution_count": 22,
     "metadata": {},
     "output_type": "execute_result"
    }
   ],
   "source": [
    "ov_bal_df['is_promoted'].value_counts()"
   ]
  },
  {
   "cell_type": "code",
   "execution_count": 23,
   "metadata": {},
   "outputs": [],
   "source": [
    "X = ov_bal_df.drop('is_promoted', axis=1)\n",
    "y = ov_bal_df['is_promoted']\n",
    "\n",
    "# Split the data into training and testing sets\n",
    "X_train, X_test, y_train, y_test = train_test_split(X, y, test_size=0.2, random_state=42)"
   ]
  },
  {
   "cell_type": "code",
   "execution_count": 8,
   "metadata": {},
   "outputs": [
    {
     "ename": "NameError",
     "evalue": "name 'X_train' is not defined",
     "output_type": "error",
     "traceback": [
      "\u001b[1;31m---------------------------------------------------------------------------\u001b[0m",
      "\u001b[1;31mNameError\u001b[0m                                 Traceback (most recent call last)",
      "Cell \u001b[1;32mIn[8], line 9\u001b[0m\n\u001b[0;32m      7\u001b[0m \u001b[38;5;28;01mfor\u001b[39;00m x \u001b[38;5;129;01min\u001b[39;00m rm:\n\u001b[0;32m      8\u001b[0m  model_RF \u001b[38;5;241m=\u001b[39m RandomForestClassifier(random_state\u001b[38;5;241m=\u001b[39mx)\n\u001b[1;32m----> 9\u001b[0m  model_RF\u001b[38;5;241m.\u001b[39mfit(\u001b[43mX_train\u001b[49m, y_train)\n\u001b[0;32m     10\u001b[0m \u001b[38;5;66;03m# Make predictions on the test set\u001b[39;00m\n\u001b[0;32m     11\u001b[0m  y_pred \u001b[38;5;241m=\u001b[39m model_RF\u001b[38;5;241m.\u001b[39mpredict(X_test)\n",
      "\u001b[1;31mNameError\u001b[0m: name 'X_train' is not defined"
     ]
    }
   ],
   "source": [
    "\n",
    "\n",
    "\n",
    "rm = range(1,101)\n",
    "\n",
    "bst_rm =  None\n",
    "best_acc = 0\n",
    "\n",
    "\n",
    "for x in rm:\n",
    " model_RF = RandomForestClassifier(random_state=x)\n",
    " model_RF.fit(X_train, y_train)\n",
    "# Make predictions on the test set\n",
    " y_pred = model_RF.predict(X_test)\n",
    "# Calculate accuracy\n",
    " accuracy = accuracy_score(y_test, y_pred)\n",
    " if accuracy > best_acc:\n",
    "     best_acc = accuracy\n",
    "     bst_rm = x\n",
    "     \n",
    "print(f'random state : {bst_rm} Accuracy of {x}: {best_acc}')\n",
    "#  class_report = classification_report(y_test, y_pred)\n",
    "# Print the classification report\n",
    "#  print(f\"Classification Report of {x}:\")\n",
    "#  print(class_report)"
   ]
  },
  {
   "cell_type": "code",
   "execution_count": 30,
   "metadata": {},
   "outputs": [],
   "source": [
    "X = df.drop('is_promoted', axis=1)\n",
    "y = df['is_promoted']\n",
    "\n",
    "# Split the data into training and testing sets\n",
    "X_train, X_test, y_train, y_test = train_test_split(X, y, test_size=0.2, random_state=42)\n",
    "\n",
    "\n",
    "\n"
   ]
  },
  {
   "cell_type": "code",
   "execution_count": 14,
   "metadata": {},
   "outputs": [
    {
     "name": "stdout",
     "output_type": "stream",
     "text": [
      "Accuracy of 1: 0.9719029374201787\n",
      "Classification Report of 1:\n",
      "              precision    recall  f1-score   support\n",
      "\n",
      "           0       1.00      0.97      0.98     10081\n",
      "           1       0.74      1.00      0.85       881\n",
      "\n",
      "    accuracy                           0.97     10962\n",
      "   macro avg       0.87      0.98      0.92     10962\n",
      "weighted avg       0.98      0.97      0.97     10962\n",
      "\n",
      "Accuracy of 2: 0.9720853858784894\n",
      "Classification Report of 2:\n",
      "              precision    recall  f1-score   support\n",
      "\n",
      "           0       1.00      0.97      0.98     10081\n",
      "           1       0.74      1.00      0.85       881\n",
      "\n",
      "    accuracy                           0.97     10962\n",
      "   macro avg       0.87      0.98      0.92     10962\n",
      "weighted avg       0.98      0.97      0.97     10962\n",
      "\n",
      "Accuracy of 3: 0.9713555920452472\n",
      "Classification Report of 3:\n",
      "              precision    recall  f1-score   support\n",
      "\n",
      "           0       1.00      0.97      0.98     10081\n",
      "           1       0.74      1.00      0.85       881\n",
      "\n",
      "    accuracy                           0.97     10962\n",
      "   macro avg       0.87      0.98      0.92     10962\n",
      "weighted avg       0.98      0.97      0.97     10962\n",
      "\n",
      "Accuracy of 4: 0.9720853858784894\n",
      "Classification Report of 4:\n",
      "              precision    recall  f1-score   support\n",
      "\n",
      "           0       1.00      0.97      0.98     10081\n",
      "           1       0.74      1.00      0.85       881\n",
      "\n",
      "    accuracy                           0.97     10962\n",
      "   macro avg       0.87      0.98      0.92     10962\n",
      "weighted avg       0.98      0.97      0.97     10962\n",
      "\n",
      "Accuracy of 5: 0.9704433497536946\n",
      "Classification Report of 5:\n",
      "              precision    recall  f1-score   support\n",
      "\n",
      "           0       1.00      0.97      0.98     10081\n",
      "           1       0.73      1.00      0.84       881\n",
      "\n",
      "    accuracy                           0.97     10962\n",
      "   macro avg       0.87      0.98      0.91     10962\n",
      "weighted avg       0.98      0.97      0.97     10962\n",
      "\n"
     ]
    }
   ],
   "source": [
    "\n",
    "\n",
    "# Assuming 'df' is your original DataFrame\n",
    "\n",
    "# Separate the classes\n",
    "cls_false = df[df['is_promoted'] == 0]\n",
    "cls_true = df[df['is_promoted'] == 1]\n",
    "\n",
    "# Split the data into training and testing sets\n",
    "X_train, X_test, y_train, y_test = train_test_split(df.drop('is_promoted', axis=1), df['is_promoted'], test_size=0.2, random_state=40)\n",
    "\n",
    "# Oversample the minority class only in the training set\n",
    "oversample = resample(cls_true, n_samples=len(cls_false), random_state=40)\n",
    "X_train_oversampled = pd.concat([X_train, oversample.drop('is_promoted', axis=1)])\n",
    "y_train_oversampled = pd.concat([y_train, oversample['is_promoted']])\n",
    "\n",
    "\n",
    "\n",
    "# Initialize the Random Forest model\n",
    " model_RF = RandomForestClassifier(random_state=x)\n",
    "\n",
    "# Train the model with the oversampled training set\n",
    " model_RF.fit(X_train_oversampled, y_train_oversampled)\n",
    "\n",
    "# Make predictions on the test set\n",
    " y_pred = model_RF.predict(X_test)\n",
    "\n",
    "# Calculate accuracy\n",
    " accuracy = accuracy_score(y_test, y_pred)\n",
    " print(f'Accuracy of {x}: {accuracy}')\n",
    " \n",
    " \n",
    " \n",
    "\n",
    "# Print the classification report\n",
    " class_report = classification_report(y_test, y_pred)\n",
    " print(f\"Classification Report of {x}:\")\n",
    " print(class_report)\n"
   ]
  },
  {
   "cell_type": "code",
   "execution_count": 36,
   "metadata": {},
   "outputs": [
    {
     "name": "stdout",
     "output_type": "stream",
     "text": [
      "Accuracy: 0.9137018792191206\n",
      "Classification Report:\n",
      "              precision    recall  f1-score   support\n",
      "\n",
      "           0       0.95      0.96      0.95     10081\n",
      "           1       0.46      0.40      0.43       881\n",
      "\n",
      "    accuracy                           0.91     10962\n",
      "   macro avg       0.70      0.68      0.69     10962\n",
      "weighted avg       0.91      0.91      0.91     10962\n",
      "\n"
     ]
    }
   ],
   "source": [
    "from sklearn.model_selection import train_test_split\n",
    "from sklearn.ensemble import RandomForestClassifier\n",
    "from sklearn.metrics import accuracy_score, classification_report\n",
    "from imblearn.over_sampling import SMOTE\n",
    "import pandas as pd\n",
    "\n",
    "\n",
    "\n",
    "# Split the data into training and testing sets\n",
    "X_train, X_test, y_train, y_test = train_test_split(df.drop('is_promoted', axis=1), df['is_promoted'], test_size=0.2, random_state=40)\n",
    "\n",
    "# Apply SMOTE only to the training set\n",
    "smote = SMOTE(random_state=40)\n",
    "X_train_resampled, y_train_resampled = smote.fit_resample(X_train, y_train)\n",
    "\n",
    "# Initialize the Random Forest model\n",
    "model_RF = RandomForestClassifier(random_state=40)\n",
    "\n",
    "# Train the model with the oversampled training set\n",
    "model_RF.fit(X_train_resampled, y_train_resampled)\n",
    "\n",
    "# Make predictions on the test set\n",
    "y_pred = model_RF.predict(X_test)\n",
    "\n",
    "# Calculate accuracy\n",
    "accuracy = accuracy_score(y_test, y_pred)\n",
    "\n",
    "print(f'Accuracy: {accuracy}')\n",
    "\n",
    "# Print the classification report\n",
    "class_report = classification_report(y_test, y_pred)\n",
    "print(\"Classification Report:\")\n",
    "print(class_report)\n"
   ]
  },
  {
   "cell_type": "code",
   "execution_count": 27,
   "metadata": {},
   "outputs": [
    {
     "name": "stdout",
     "output_type": "stream",
     "text": [
      "Best Parameters: {'max_depth': 35, 'n_estimators': 32, 'random_state': 119}\n",
      "Accuracy: 0.9705345739828498\n",
      "Classification Report:\n",
      "              precision    recall  f1-score   support\n",
      "\n",
      "           0       1.00      0.97      0.98     10081\n",
      "           1       0.73      1.00      0.85       881\n",
      "\n",
      "    accuracy                           0.97     10962\n",
      "   macro avg       0.87      0.98      0.91     10962\n",
      "weighted avg       0.98      0.97      0.97     10962\n",
      "\n"
     ]
    }
   ],
   "source": [
    "from sklearn.model_selection import train_test_split, GridSearchCV\n",
    "from sklearn.ensemble import RandomForestClassifier\n",
    "from sklearn.metrics import accuracy_score, classification_report\n",
    "from sklearn.utils import resample\n",
    "import pandas as pd\n",
    "\n",
    "# Assuming 'df' is your original DataFrame\n",
    "\n",
    "# Separate the classes\n",
    "cls_false = df[df['is_promoted'] == 0]\n",
    "cls_true = df[df['is_promoted'] == 1]\n",
    "\n",
    "# Split the data into training and testing sets\n",
    "X_train, X_test, y_train, y_test = train_test_split(df.drop('is_promoted', axis=1), df['is_promoted'], test_size=0.2, random_state=40)\n",
    "\n",
    "# Oversample the minority class only in the training set\n",
    "oversample = resample(cls_true, n_samples=len(cls_false), random_state=40)\n",
    "X_train_oversampled = pd.concat([X_train, oversample.drop('is_promoted', axis=1)])\n",
    "y_train_oversampled = pd.concat([y_train, oversample['is_promoted']])\n",
    "\n",
    "# Define the parameter grid\n",
    "param_grid = {\n",
    "    'n_estimators':[30,32],\n",
    "    'max_depth': [35],\n",
    "    'random_state': [119]  # Keeping the random_state constant for consistency\n",
    "}\n",
    "\n",
    "# Initialize the Random Forest model\n",
    "model_RF = RandomForestClassifier()\n",
    "\n",
    "# Initialize GridSearchCV\n",
    "grid_search = GridSearchCV(estimator=model_RF, param_grid=param_grid, cv=5, scoring='accuracy')\n",
    "\n",
    "# Perform grid search on the oversampled training set\n",
    "grid_search.fit(X_train_oversampled, y_train_oversampled)\n",
    "\n",
    "# Get the best parameters from the grid search\n",
    "best_params = grid_search.best_params_\n",
    "print(f'Best Parameters: {best_params}')\n",
    "\n",
    "# Get the best model from the grid search\n",
    "best_model = grid_search.best_estimator_\n",
    "\n",
    "# Make predictions on the test set\n",
    "y_pred = best_model.predict(X_test)\n",
    "\n",
    "# Calculate accuracy\n",
    "accuracy = accuracy_score(y_test, y_pred)\n",
    "print(f'Accuracy: {accuracy}')\n",
    "\n",
    "# Print the classification report\n",
    "class_report = classification_report(y_test, y_pred)\n",
    "print(\"Classification Report:\")\n",
    "print(class_report)\n"
   ]
  },
  {
   "cell_type": "code",
   "execution_count": 10,
   "metadata": {},
   "outputs": [
    {
     "name": "stdout",
     "output_type": "stream",
     "text": [
      "Best Random State: 119, Best Accuracy: 0.9740923189199051\n",
      "Final Accuracy: 0.9740923189199051\n",
      "Final Classification Report:\n",
      "              precision    recall  f1-score   support\n",
      "\n",
      "           0       1.00      0.97      0.99     10081\n",
      "           1       0.76      1.00      0.86       881\n",
      "\n",
      "    accuracy                           0.97     10962\n",
      "   macro avg       0.88      0.99      0.92     10962\n",
      "weighted avg       0.98      0.97      0.98     10962\n",
      "\n"
     ]
    }
   ],
   "source": [
    "from sklearn.model_selection import train_test_split\n",
    "from sklearn.ensemble import RandomForestClassifier\n",
    "from sklearn.metrics import accuracy_score, classification_report\n",
    "from sklearn.utils import resample\n",
    "\n",
    "# Separate the classes\n",
    "cls_false = df[df['is_promoted'] == 0]\n",
    "cls_true = df[df['is_promoted'] == 1]\n",
    "\n",
    "# Split the data into training and testing sets with a specified random_state\n",
    "X_train, X_test, y_train, y_test = train_test_split(df.drop('is_promoted', axis=1), df['is_promoted'], test_size=0.2, random_state=40)\n",
    "\n",
    "# Initialize variables to store the best random state and accuracy\n",
    "best_random_state = None\n",
    "best_accuracy = 0\n",
    "\n",
    "# Try different random state values\n",
    "for random_state in range(100, 201):\n",
    "    # Oversample the minority class only in the training set\n",
    "    oversample = resample(cls_true, n_samples=len(cls_false), random_state=random_state)\n",
    "    X_train_oversampled = pd.concat([X_train, oversample.drop('is_promoted', axis=1)])\n",
    "    y_train_oversampled = pd.concat([y_train, oversample['is_promoted']])\n",
    "\n",
    "    # Initialize the Random Forest model\n",
    "    model_RF = RandomForestClassifier(random_state=random_state)\n",
    "\n",
    "    # Train the model with the oversampled training set\n",
    "    model_RF.fit(X_train_oversampled, y_train_oversampled)\n",
    "\n",
    "    # Make predictions on the test set\n",
    "    y_pred = model_RF.predict(X_test)\n",
    "\n",
    "    # Calculate accuracy\n",
    "    current_accuracy = accuracy_score(y_test, y_pred)\n",
    "\n",
    "    # Update best_random_state if the current iteration has a higher accuracy\n",
    "    if current_accuracy > best_accuracy:\n",
    "        best_accuracy = current_accuracy\n",
    "        best_random_state = random_state\n",
    "\n",
    "# Print the best random state and accuracy\n",
    "print(f\"Best Random State: {best_random_state}, Best Accuracy: {best_accuracy}\")\n",
    "\n",
    "# Train the final model with the best random state\n",
    "oversample = resample(cls_true, n_samples=len(cls_false), random_state=best_random_state)\n",
    "X_train_oversampled = pd.concat([X_train, oversample.drop('is_promoted', axis=1)])\n",
    "y_train_oversampled = pd.concat([y_train, oversample['is_promoted']])\n",
    "\n",
    "final_model_RF = RandomForestClassifier(random_state=best_random_state)\n",
    "final_model_RF.fit(X_train_oversampled, y_train_oversampled)\n",
    "\n",
    "# Make predictions on the test set using the final model\n",
    "y_pred_final = final_model_RF.predict(X_test)\n",
    "\n",
    "# Calculate and print the final accuracy and classification report\n",
    "accuracy_final = accuracy_score(y_test, y_pred_final)\n",
    "print(f'Final Accuracy: {accuracy_final}')\n",
    "\n",
    "class_report_final = classification_report(y_test, y_pred_final)\n",
    "print(f\"Final Classification Report:\")\n",
    "print(class_report_final)\n"
   ]
  }
 ],
 "metadata": {
  "kernelspec": {
   "display_name": "Python 3",
   "language": "python",
   "name": "python3"
  },
  "language_info": {
   "codemirror_mode": {
    "name": "ipython",
    "version": 3
   },
   "file_extension": ".py",
   "mimetype": "text/x-python",
   "name": "python",
   "nbconvert_exporter": "python",
   "pygments_lexer": "ipython3",
   "version": "3.12.1"
  }
 },
 "nbformat": 4,
 "nbformat_minor": 2
}
